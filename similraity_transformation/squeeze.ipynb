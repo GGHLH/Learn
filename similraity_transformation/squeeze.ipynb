{
 "cells": [
  {
   "cell_type": "markdown",
   "id": "147c5997-fad5-471b-b8be-252777ca8f34",
   "metadata": {},
   "source": [
    "##### squeeze 从数组的形状中删除一维条目\n",
    "        --numpy.squeeze 函数从给定数组的形状中删除一维的条目，函数格式如下：\n",
    "                numpy.squeeze(arr, axis)\n",
    "                arr:输入的数组\n",
    "                axis:整数或整数元组，选择删除一个维度"
   ]
  },
  {
   "cell_type": "code",
   "execution_count": 48,
   "id": "bdfd801f-3d0b-4aec-9e08-bf82ac1b1804",
   "metadata": {},
   "outputs": [],
   "source": [
    "import numpy as np"
   ]
  },
  {
   "cell_type": "code",
   "execution_count": 49,
   "id": "a9d62d06-c109-437b-b930-8bee749e79b8",
   "metadata": {},
   "outputs": [
    {
     "data": {
      "text/plain": [
       "array([[[0, 1, 2],\n",
       "        [3, 4, 5],\n",
       "        [6, 7, 8]]])"
      ]
     },
     "execution_count": 49,
     "metadata": {},
     "output_type": "execute_result"
    }
   ],
   "source": [
    "x = np.arange(9).reshape(1,3,3)\n",
    "x"
   ]
  },
  {
   "cell_type": "code",
   "execution_count": 50,
   "id": "49744b97-5d83-4b32-bd31-58a6e21dc567",
   "metadata": {},
   "outputs": [
    {
     "name": "stdout",
     "output_type": "stream",
     "text": [
      "数组x: \n",
      "[[[0 1 2]\n",
      "  [3 4 5]\n",
      "  [6 7 8]]] \n",
      "\n",
      "数组z: \n",
      "[[0 1 2]\n",
      " [3 4 5]\n",
      " [6 7 8]] \n",
      "\n",
      "(1, 3, 3) (3, 3)\n"
     ]
    }
   ],
   "source": [
    "print(\"数组x: \")\n",
    "print(x,\"\\n\")\n",
    "y = np.squeeze(x)\n",
    "\n",
    "\n",
    "print(\"数组z: \")\n",
    "print(z,\"\\n\")\n",
    "\n",
    "print(x.shape, y.shape)"
   ]
  },
  {
   "cell_type": "markdown",
   "id": "52f165af-3603-49ea-9c33-31aef1816ba9",
   "metadata": {},
   "source": [
    "cv2.circle()方法用来在任何图上画圆圈\n",
    "    --cv2.cricle(image, center_coordinates, radius, color, thickness)\n",
    "            image:要绘制圆的图\n",
    "            center_coordinates:圆的中心坐标2个值的是tuple（x,y）\n",
    "            thickness;圆的边界线的粗细像素"
   ]
  },
  {
   "cell_type": "code",
   "execution_count": null,
   "id": "f671fc98-c0f0-4a94-a573-04edc9c8913b",
   "metadata": {},
   "outputs": [],
   "source": []
  },
  {
   "cell_type": "code",
   "execution_count": null,
   "id": "2742bbb6-1ddb-4383-870e-2f92e1b263bb",
   "metadata": {},
   "outputs": [],
   "source": []
  },
  {
   "cell_type": "markdown",
   "id": "aa2a2eab-29e0-457c-944c-ab438454ac5f",
   "metadata": {},
   "source": [
    "##### numpy.zero() 创建指定大小的数组，数组元素以0来填充\n",
    "        --numpy.zeros(shape, dtype=float, order = \"c\")\n",
    "                 shape:数组形状\n",
    "                 dtype:数据类型\n",
    "                 order：\"C\"用于行数组， ”F“用于列数组"
   ]
  },
  {
   "cell_type": "code",
   "execution_count": 71,
   "id": "bfc9503a-a1ba-463d-a9ab-7f70f44d8eab",
   "metadata": {},
   "outputs": [
    {
     "data": {
      "text/plain": [
       "array([[[(0, 0), (0, 0), (0, 0)],\n",
       "        [(0, 0), (0, 0), (0, 0)]],\n",
       "\n",
       "       [[(0, 0), (0, 0), (0, 0)],\n",
       "        [(0, 0), (0, 0), (0, 0)]]], dtype=[('x', '<i4'), ('y', '<i4')])"
      ]
     },
     "execution_count": 71,
     "metadata": {},
     "output_type": "execute_result"
    }
   ],
   "source": [
    "import numpy as np\n",
    "x = np.zeros((2,4, 3), dtype = int)# 2个这样的3行，4列的矩阵\n",
    "x  #默认float类型\n",
    "\n",
    "#自定义数据类型\n",
    "y = np.zeros((2,2,3), dtype = [(\"x\",\"i4\"),(\"y\",\"i4\")])\n",
    "y"
   ]
  },
  {
   "cell_type": "code",
   "execution_count": null,
   "id": "198abce1-967e-4a0f-a0be-5cd6e74e8295",
   "metadata": {},
   "outputs": [],
   "source": []
  },
  {
   "cell_type": "code",
   "execution_count": null,
   "id": "098280bb-c476-457e-a57d-3bb6d318635f",
   "metadata": {},
   "outputs": [],
   "source": []
  },
  {
   "cell_type": "markdown",
   "id": "dbac1ff5-9fa0-4acc-9af2-f57134622444",
   "metadata": {},
   "source": [
    "##### numpy.ones() 创建指定大小的数组，数组元素以0来填充\n",
    "        --numpy.zeros(shape, dtype=float, order = \"c\")\n",
    "                 shape:数组形状\n",
    "                 dtype:数据类型\n",
    "                 order：\"C\"用于行数组， ”F“用于列数组"
   ]
  },
  {
   "cell_type": "code",
   "execution_count": 86,
   "id": "c79d6fa2-129a-4fe7-9df7-9b948e2b3acc",
   "metadata": {},
   "outputs": [
    {
     "data": {
      "text/plain": [
       "array([[[1, 1],\n",
       "        [1, 1],\n",
       "        [1, 1]],\n",
       "\n",
       "       [[1, 1],\n",
       "        [1, 1],\n",
       "        [1, 1]]])"
      ]
     },
     "execution_count": 86,
     "metadata": {},
     "output_type": "execute_result"
    }
   ],
   "source": [
    "import numpy as np\n",
    "x = np.ones((5),dtype=int)\n",
    "x\n",
    "\n",
    "#自定义类型\n",
    "y = np.ones((2,3,2),dtype=int)\n",
    "y\n",
    "\n"
   ]
  },
  {
   "cell_type": "code",
   "execution_count": 87,
   "id": "dfbcc255-ab16-4e8d-9cef-79a1bb795c4e",
   "metadata": {},
   "outputs": [
    {
     "data": {
      "text/plain": [
       "array([[[1, 1],\n",
       "        [1, 1],\n",
       "        [1, 1]],\n",
       "\n",
       "       [[1, 1],\n",
       "        [1, 1],\n",
       "        [1, 1]]])"
      ]
     },
     "execution_count": 87,
     "metadata": {},
     "output_type": "execute_result"
    }
   ],
   "source": [
    "\n",
    "z = np.ones([2,3,2], dtype=int)\n",
    "z"
   ]
  },
  {
   "cell_type": "code",
   "execution_count": 110,
   "id": "4e14b536-d831-4557-91ef-f659be0d6157",
   "metadata": {},
   "outputs": [
    {
     "data": {
      "text/plain": [
       "array([[2, 2],\n",
       "       [3, 2],\n",
       "       [4, 5],\n",
       "       [5, 2]])"
      ]
     },
     "execution_count": 110,
     "metadata": {},
     "output_type": "execute_result"
    }
   ],
   "source": [
    "x12 =np.array([\n",
    "      [2,2,3,4,5],\n",
    "      [3,2,3,4,5],\n",
    "      [4,5,3,4,5],\n",
    "      [5,2,3,4,5]])\n",
    "\n",
    "x12[:,:2]# \":,\"取第一列， \",:2\"取到第二列以前，不包括第二列"
   ]
  },
  {
   "cell_type": "code",
   "execution_count": null,
   "id": "8bc85cdc-d686-4e5c-8513-b235d1d51460",
   "metadata": {},
   "outputs": [],
   "source": []
  }
 ],
 "metadata": {
  "kernelspec": {
   "display_name": "Python 3 (ipykernel)",
   "language": "python",
   "name": "python3"
  },
  "language_info": {
   "codemirror_mode": {
    "name": "ipython",
    "version": 3
   },
   "file_extension": ".py",
   "mimetype": "text/x-python",
   "name": "python",
   "nbconvert_exporter": "python",
   "pygments_lexer": "ipython3",
   "version": "3.6.13"
  }
 },
 "nbformat": 4,
 "nbformat_minor": 5
}
